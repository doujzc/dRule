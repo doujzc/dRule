{
 "cells": [
  {
   "cell_type": "code",
   "execution_count": 1,
   "metadata": {},
   "outputs": [
    {
     "name": "stderr",
     "output_type": "stream",
     "text": [
      "c:\\Users\\tourx\\source\\repos\\sota\\knowledgegraph.py:13: FutureWarning: The series.append method is deprecated and will be removed from pandas in a future version. Use pandas.concat instead.\n",
      "  total_entity = data[0].append(data[2])\n"
     ]
    }
   ],
   "source": [
    "import torch\n",
    "import torch.nn as nn\n",
    "import torch.nn.functional as F\n",
    "from torch.nn.parameter import Parameter\n",
    "import numpy as np\n",
    "import pandas\n",
    "import os\n",
    "from tqdm import tqdm\n",
    "import random\n",
    "\n",
    "from graph import Graph\n",
    "from knowledgegraph import KnowledgeGraph\n",
    "from rule import Rule\n",
    "from train import train\n",
    "from train import train_step_by_step\n",
    "from train import train_pow_decay\n",
    "from device import device\n",
    "import pickle\n",
    "\n",
    "# data_path = 'data/wn18rr/train.txt'\n",
    "data_path = 'data/umls/train.txt'\n",
    "# data_path = 'temp.txt'\n",
    "# data_path = 'data/data_2_rule.txt'\n",
    "# data_path = 'data/family/train.txt'\n",
    "# data_path = 'data/noisy.txt'\n",
    "# data_path = 'data/kinship/train.txt'\n",
    "KG = KnowledgeGraph(data_path)\n",
    "# KG.graph.tosparse()\n",
    "\n",
    "EPOCH = 100\n",
    "# BATCH_SIZE = 294\n",
    "BATCH_SIZE = 1000\n",
    "rule_body_len = 3\n",
    "# target_predicate = KG.predicate2id[1]\n",
    "target_predicate = 0\n",
    "# target_predicate = KG.predicate2id['affects']\n",
    "\n",
    "# target_triplets = list()\n",
    "# for triplet in KG.triplets:\n",
    "#     if (triplet[1] == target_predicate):\n",
    "#         target_triplets.append(triplet)\n",
    "# n_triplets = len(target_triplets)\n",
    "# v_froms = set()\n",
    "# for triplet in target_triplets:\n",
    "#     v_froms.add(triplet[0])\n",
    "# print(len(target_triplets))\n",
    "\n",
    "# model = train_step_by_step(rule_body_len, target_predicate, KG, BATCH_SIZE, EPOCH, lr=1e-2)\n",
    "# model0 = train_pow_decay(rule_body_len, target_predicate, KG, BATCH_SIZE, EPOCH, lr=1e-5, decay_st=100)\n",
    "\n",
    "# KG.print_model(model0, KG.id2predicate[target_predicate])"
   ]
  },
  {
   "cell_type": "code",
   "execution_count": 2,
   "metadata": {},
   "outputs": [
    {
     "name": "stderr",
     "output_type": "stream",
     "text": [
      "100%|███████████████████████████████████████████| 90/90 [19:55<00:00, 13.29s/it]\n"
     ]
    }
   ],
   "source": [
    "with open(\"generate.txt\", \"w\") as f:\n",
    "        f.write(\"[\")\n",
    "accs = list()\n",
    "\n",
    "pos_triplets = KG.graph.A.clone().detach()\n",
    "neg_triplets = (1.0 - KG.graph.A).detach()\n",
    "\n",
    "with tqdm(range(KG.graph.n_edge_type), ncols=80) as _tqdm:\n",
    "    for target_predicate in _tqdm:\n",
    "        all_triplets = list()\n",
    "        offset = KG.predicate_offset\n",
    "        for triplet in KG.triplets:\n",
    "            if (triplet[1] == target_predicate):\n",
    "                all_triplets.append(triplet)\n",
    "            if (triplet[1] == target_predicate + offset):\n",
    "                all_triplets.append(triplet)\n",
    "            if (triplet[1] == target_predicate - offset):\n",
    "                all_triplets.append(triplet)\n",
    "        if (target_predicate >= KG.n_predicate_original()):\n",
    "            offset = -offset\n",
    "        # for triplet in all_triplets:\n",
    "        #     KG.graph.mask_edge(triplet[0], triplet[2], triplet[1])\n",
    "        N_RULE = 100\n",
    "\n",
    "        with open(\"generate.txt\", \"a+\") as f:\n",
    "            f.write(\"[\")\n",
    "        \n",
    "        loop = 0\n",
    "        randinit = False\n",
    "        npos = torch.sum(pos_triplets[target_predicate])\n",
    "        nneg = torch.sum(neg_triplets[target_predicate])\n",
    "        while loop < N_RULE:\n",
    "            model = train(rule_body_len, target_predicate, KG, BATCH_SIZE, pos_triplets[target_predicate], neg_triplets[target_predicate],\n",
    "                EPOCH=10, lr=1e-2, decay_st=100, randinit=True)\n",
    "            randinit=False\n",
    "            # KG.print_model(model, KG.id2predicate[target_predicate])\n",
    "\n",
    "            rule = KG.output_model(model, KG.id2predicate[target_predicate])\n",
    "            modelpre = KG.construct_model(rule)\n",
    "\n",
    "            total = 0\n",
    "            cnt = 0\n",
    "\n",
    "            mask0 = torch.ones((1, KG.graph.n_vertex)).to(device)\n",
    "            a = (modelpre(KG.graph) + 0.3).type(torch.long).type(torch.float32).T\n",
    "            for v_from in range(KG.graph.n_vertex):\n",
    "                mask1 = (KG.graph.A[KG.predicate2id[rule[0]]].T[v_from]+0.3).type(torch.long).type(torch.float32)\n",
    "                ans = a[v_from]\n",
    "                total += int(mask0.matmul(ans.T))\n",
    "                cnt += int(mask1.matmul(ans.T))\n",
    "\n",
    "            num = int(torch.sum(KG.graph.A[KG.predicate2id[rule[0]]]))\n",
    "\n",
    "            # if (cnt == num):\n",
    "            #     randinit=True\n",
    "            loop += 1\n",
    "            if (total == 0):\n",
    "                randinit=True\n",
    "                continue\n",
    "            acc = cnt / total\n",
    "            accs.append(acc)\n",
    "            \n",
    "            a = (modelpre(KG.graph) + 0.3).type(torch.long)\n",
    "            ratio = 1.0 - acc * a\n",
    "            pos_triplets[target_predicate] *= ratio\n",
    "            neg_triplets[target_predicate] /= (ratio + 1e-10)\n",
    "            pos_triplets[target_predicate] *= npos / (torch.sum(pos_triplets[target_predicate]) + 1e-10)\n",
    "            neg_triplets[target_predicate] *= nneg / (torch.sum(neg_triplets[target_predicate]) + 1e-10)\n",
    "\n",
    "\n",
    "            with open(\"generate.txt\", \"a+\") as f:\n",
    "                f.write(str(rule) + \",\\n\")\n",
    "        with open(\"generate.txt\", \"a+\") as f:\n",
    "            f.write(\"],\")\n",
    "        # KG.graph.restore_masked_edge()\n",
    "with open(\"generate.txt\", \"a+\") as f:\n",
    "        f.write(\"]\")"
   ]
  },
  {
   "cell_type": "code",
   "execution_count": 23,
   "metadata": {},
   "outputs": [
    {
     "data": {
      "text/plain": [
       "0.22047989331743906"
      ]
     },
     "execution_count": 23,
     "metadata": {},
     "output_type": "execute_result"
    }
   ],
   "source": [
    "sum = 0.0\n",
    "for i in accs:                                                                                                                                                                                                                                                                                                                                                                                                                                                                                                                                                                                                                                                                                                                                                                                                                                                                                                                                                                                                                                                                                                                                                                                                                                                                                                                                                                                                                                                                                                                                                                                                                                                                                                                                                                                                                                                                                                                                                                                                                                                                                                                                                                                                                                                                                                                                                                                                                                                                                                                                                                                                                                                                                                                                                                                                                                                                                                                                                                                                                                                                                                                                                                                                                                                                                                                                                                                                                                                                                                                                                                                                                                                                                                                                                                                                                                                                                                                                                                                                                                                                                                                                                                                                                                                                                                                                                                                                                                                                                                                                                                                                                                                                                                                                                                                                                                                                                                                                                                                                                                                                                                                                                                                                                                                                                                                                                                         \n",
    "    sum += i\n",
    "sum / len(accs)"
   ]
  },
  {
   "cell_type": "code",
   "execution_count": 23,
   "metadata": {},
   "outputs": [
    {
     "name": "stdout",
     "output_type": "stream",
     "text": [
      "Rule: \n",
      "[rev-degree_of, degree_of, rev-degree_of, ]\n",
      "Score: \n",
      "[0.5500677227973938, 0.8389495611190796, 0.8700454235076904]\n",
      "#True: 294\n",
      "#Predicted True: 26\n",
      "#True And Predicted True: 5\n",
      "\n",
      "#True Among Predicted True: 0.19230769230769232\n",
      "\n",
      "#Predicted True Among True: 0.017006802721088437\n",
      "\n",
      "\n",
      "Parameter Matrix: \n",
      "tensor([[1.2115e-03, 9.1785e-04, 0.0000e+00],\n",
      "        [0.0000e+00, 0.0000e+00, 0.0000e+00],\n",
      "        [0.0000e+00, 0.0000e+00, 8.8122e-03],\n",
      "        [0.0000e+00, 7.0988e-08, 1.4359e-16],\n",
      "        [0.0000e+00, 0.0000e+00, 0.0000e+00],\n",
      "        [6.6354e-08, 0.0000e+00, 0.0000e+00],\n",
      "        [0.0000e+00, 2.2744e-08, 0.0000e+00],\n",
      "        [0.0000e+00, 0.0000e+00, 0.0000e+00],\n",
      "        [1.1872e-16, 0.0000e+00, 0.0000e+00],\n",
      "        [1.2083e-02, 0.0000e+00, 0.0000e+00],\n",
      "        [0.0000e+00, 0.0000e+00, 0.0000e+00],\n",
      "        [0.0000e+00, 0.0000e+00, 1.3208e-16],\n",
      "        [0.0000e+00, 0.0000e+00, 0.0000e+00],\n",
      "        [0.0000e+00, 0.0000e+00, 0.0000e+00],\n",
      "        [0.0000e+00, 0.0000e+00, 4.0751e-08],\n",
      "        [3.1283e-16, 2.4935e-16, 1.5280e-16],\n",
      "        [3.0092e-16, 9.1161e-17, 4.2327e-08],\n",
      "        [0.0000e+00, 1.5234e-05, 1.8854e-08],\n",
      "        [0.0000e+00, 3.7728e-31, 1.1993e-22],\n",
      "        [0.0000e+00, 2.9052e-08, 2.1719e-08],\n",
      "        [0.0000e+00, 0.0000e+00, 8.8348e-03],\n",
      "        [0.0000e+00, 0.0000e+00, 0.0000e+00],\n",
      "        [2.9808e-01, 8.3895e-01, 5.0047e-02],\n",
      "        [0.0000e+00, 0.0000e+00, 0.0000e+00],\n",
      "        [0.0000e+00, 1.4385e-08, 1.3754e-16],\n",
      "        [8.0293e-08, 1.1413e-16, 7.9989e-04],\n",
      "        [0.0000e+00, 8.0852e-31, 0.0000e+00],\n",
      "        [0.0000e+00, 0.0000e+00, 0.0000e+00],\n",
      "        [0.0000e+00, 0.0000e+00, 0.0000e+00],\n",
      "        [0.0000e+00, 0.0000e+00, 0.0000e+00],\n",
      "        [7.6039e-08, 0.0000e+00, 3.4639e-08],\n",
      "        [0.0000e+00, 4.5839e-08, 3.0370e-02],\n",
      "        [0.0000e+00, 0.0000e+00, 0.0000e+00],\n",
      "        [0.0000e+00, 0.0000e+00, 0.0000e+00],\n",
      "        [0.0000e+00, 5.0739e-03, 2.2084e-02],\n",
      "        [0.0000e+00, 0.0000e+00, 0.0000e+00],\n",
      "        [0.0000e+00, 0.0000e+00, 0.0000e+00],\n",
      "        [0.0000e+00, 0.0000e+00, 0.0000e+00],\n",
      "        [0.0000e+00, 0.0000e+00, 0.0000e+00],\n",
      "        [0.0000e+00, 0.0000e+00, 0.0000e+00],\n",
      "        [6.4243e-03, 2.9339e-19, 3.8192e-04],\n",
      "        [0.0000e+00, 9.1875e-04, 6.2746e-04],\n",
      "        [0.0000e+00, 0.0000e+00, 0.0000e+00],\n",
      "        [2.0697e-02, 0.0000e+00, 0.0000e+00],\n",
      "        [2.9095e-16, 7.1005e-08, 0.0000e+00],\n",
      "        [0.0000e+00, 0.0000e+00, 0.0000e+00],\n",
      "        [0.0000e+00, 0.0000e+00, 3.2760e-08],\n",
      "        [0.0000e+00, 2.2747e-08, 0.0000e+00],\n",
      "        [0.0000e+00, 0.0000e+00, 0.0000e+00],\n",
      "        [0.0000e+00, 0.0000e+00, 5.8658e-17],\n",
      "        [0.0000e+00, 0.0000e+00, 5.9496e-03],\n",
      "        [0.0000e+00, 0.0000e+00, 0.0000e+00],\n",
      "        [2.6758e-16, 0.0000e+00, 0.0000e+00],\n",
      "        [0.0000e+00, 0.0000e+00, 0.0000e+00],\n",
      "        [0.0000e+00, 0.0000e+00, 0.0000e+00],\n",
      "        [8.2569e-08, 0.0000e+00, 0.0000e+00],\n",
      "        [3.0964e-16, 2.4935e-16, 1.5441e-16],\n",
      "        [8.5764e-08, 9.1161e-17, 1.4850e-16],\n",
      "        [3.8123e-08, 1.5318e-05, 0.0000e+00],\n",
      "        [5.5669e-23, 3.7733e-31, 0.0000e+00],\n",
      "        [4.3949e-08, 2.9052e-08, 0.0000e+00],\n",
      "        [2.1588e-02, 0.0000e+00, 0.0000e+00],\n",
      "        [0.0000e+00, 0.0000e+00, 0.0000e+00],\n",
      "        [5.5007e-01, 1.4783e-01, 8.7005e-01],\n",
      "        [0.0000e+00, 0.0000e+00, 0.0000e+00],\n",
      "        [2.7861e-16, 1.4383e-08, 0.0000e+00],\n",
      "        [1.3478e-03, 1.1376e-16, 3.9632e-08],\n",
      "        [0.0000e+00, 8.0832e-31, 0.0000e+00],\n",
      "        [0.0000e+00, 0.0000e+00, 0.0000e+00],\n",
      "        [0.0000e+00, 0.0000e+00, 0.0000e+00],\n",
      "        [0.0000e+00, 0.0000e+00, 0.0000e+00],\n",
      "        [7.0178e-08, 0.0000e+00, 3.7537e-08],\n",
      "        [3.5332e-02, 4.5827e-08, 0.0000e+00],\n",
      "        [0.0000e+00, 0.0000e+00, 0.0000e+00],\n",
      "        [0.0000e+00, 0.0000e+00, 0.0000e+00],\n",
      "        [5.2422e-02, 6.2785e-03, 0.0000e+00],\n",
      "        [0.0000e+00, 0.0000e+00, 0.0000e+00],\n",
      "        [0.0000e+00, 0.0000e+00, 0.0000e+00],\n",
      "        [0.0000e+00, 0.0000e+00, 0.0000e+00],\n",
      "        [0.0000e+00, 0.0000e+00, 0.0000e+00],\n",
      "        [0.0000e+00, 0.0000e+00, 0.0000e+00],\n",
      "        [7.4249e-04, 2.9339e-19, 2.0486e-03]], grad_fn=<PermuteBackward0>)\n",
      "\n"
     ]
    }
   ],
   "source": [
    "target_predicate= KG.predicate2id[\"affects\"]\n",
    "pos_triplets = KG.graph.A.clone().detach()\n",
    "neg_triplets = (1.0 - KG.graph.A).detach()\n",
    "\n",
    "model = train(rule_body_len, target_predicate, KG, BATCH_SIZE,pos_triplets, neg_triplets, EPOCH=100, lr=3e-3, decay_st=50, randinit=False)\n",
    "randinit=False\n",
    "KG.print_model(model, KG.id2predicate[target_predicate])\n",
    "\n",
    "rule = KG.output_model(model, KG.id2predicate[target_predicate])\n",
    "num, total, cnt = KG.check_rule(rule)\n",
    "acc = cnt / total\n",
    "if (cnt == num):\n",
    "    randinit=True\n",
    "if (total == 0):\n",
    "    randinit=True\n",
    "# print(acc)\n",
    "modelpre = KG.construct_model(rule)\n",
    "a = (modelpre(KG.graph) + 0.3).type(torch.long)\n",
    "ratio = 1.0 - acc * a"
   ]
  },
  {
   "cell_type": "code",
   "execution_count": 9,
   "metadata": {},
   "outputs": [
    {
     "name": "stdout",
     "output_type": "stream",
     "text": [
      "Rule: \n",
      "[rev-term1, rev-term18, rev-term4, ]\n",
      "Score: \n",
      "[0.8116318583488464, 0.5812168717384338, 0.5183747410774231]\n",
      "#True: 1\n",
      "#Predicted True: 210\n",
      "#True And Predicted True: 1\n",
      "\n",
      "#True Among Predicted True: 0.004761904761904762\n",
      "\n",
      "#Predicted True Among True: 1.0\n",
      "\n",
      "\n",
      "Parameter Matrix: \n",
      "tensor([[3.7808e-09, 2.9658e-16, 3.6560e-17],\n",
      "        [2.4195e-15, 3.2533e-16, 4.9660e-12],\n",
      "        [1.4149e-10, 2.0584e-16, 9.4983e-11],\n",
      "        [1.5064e-15, 6.9812e-16, 4.4324e-17],\n",
      "        [8.0623e-12, 1.9110e-16, 3.4722e-17],\n",
      "        [1.3863e-14, 2.1970e-04, 7.3875e-17],\n",
      "        [8.2326e-14, 2.7482e-16, 4.8163e-01],\n",
      "        [4.9409e-16, 2.4695e-12, 2.5858e-12],\n",
      "        [1.0073e-15, 6.5767e-12, 4.2890e-17],\n",
      "        [8.5555e-16, 4.1400e-16, 4.4625e-17],\n",
      "        [2.2932e-12, 4.0365e-01, 3.6128e-17],\n",
      "        [2.1377e-15, 4.8431e-09, 4.5572e-17],\n",
      "        [2.5730e-11, 9.0266e-16, 6.0646e-12],\n",
      "        [5.0679e-12, 3.4864e-15, 1.8889e-12],\n",
      "        [9.4372e-16, 1.8130e-12, 3.9173e-17],\n",
      "        [1.7382e-11, 4.7065e-11, 6.4040e-17],\n",
      "        [8.3302e-16, 8.6485e-09, 3.8867e-17],\n",
      "        [1.3269e-15, 2.7446e-16, 4.7340e-12],\n",
      "        [3.6773e-12, 1.7834e-09, 1.8738e-12],\n",
      "        [2.1661e-09, 7.0871e-12, 5.8445e-12],\n",
      "        [7.7922e-12, 1.8376e-12, 8.6492e-13],\n",
      "        [3.1823e-14, 1.1110e-15, 1.1565e-16],\n",
      "        [7.7350e-13, 3.0983e-12, 3.6513e-16],\n",
      "        [1.6144e-11, 1.0387e-11, 3.2663e-12],\n",
      "        [1.7776e-11, 2.3941e-10, 2.6687e-12],\n",
      "        [4.6166e-16, 2.2381e-16, 3.6165e-17],\n",
      "        [2.0332e-12, 1.4236e-15, 4.0569e-17],\n",
      "        [6.5236e-15, 2.8747e-16, 1.5645e-11],\n",
      "        [4.0470e-12, 5.0194e-15, 2.7941e-12],\n",
      "        [3.4987e-16, 2.0258e-12, 5.3029e-17],\n",
      "        [1.3853e-14, 1.4915e-02, 7.3594e-17],\n",
      "        [7.9778e-16, 1.3204e-14, 5.1837e-01],\n",
      "        [4.9825e-16, 2.5537e-16, 4.3269e-17],\n",
      "        [1.0558e-15, 4.7125e-16, 3.9637e-17],\n",
      "        [1.5636e-01, 1.5329e-14, 4.1868e-17],\n",
      "        [2.2779e-12, 5.8122e-01, 3.6231e-17],\n",
      "        [7.1332e-09, 3.0914e-10, 4.4388e-17],\n",
      "        [8.0411e-09, 1.8212e-12, 6.4679e-12],\n",
      "        [8.1163e-01, 1.9397e-11, 3.9159e-17],\n",
      "        [9.3762e-16, 2.3290e-16, 2.1998e-12],\n",
      "        [8.2699e-15, 1.6490e-11, 3.2962e-12],\n",
      "        [7.9637e-16, 2.2826e-12, 4.3069e-17],\n",
      "        [1.2920e-15, 1.2655e-10, 6.5624e-12],\n",
      "        [1.4931e-15, 5.7447e-15, 4.3237e-17],\n",
      "        [1.0772e-11, 1.8353e-12, 4.9106e-17],\n",
      "        [8.7035e-12, 2.0159e-13, 6.1137e-14],\n",
      "        [3.3862e-14, 6.2597e-15, 4.6817e-12],\n",
      "        [7.1609e-13, 6.6838e-15, 3.5997e-16],\n",
      "        [1.6585e-11, 2.2289e-12, 1.4504e-12],\n",
      "        [3.2007e-02, 3.6426e-12, 3.3363e-11]], grad_fn=<PermuteBackward0>)\n",
      "\n"
     ]
    }
   ],
   "source": [
    "model = train_pow_decay(rule_body_len, KG.graph.n_edge_type - 1, KG, BATCH_SIZE, EPOCH=50, lr=1e-4, decay_st=40, randinit=False)\n",
    "KG.print_model(model, \"rev-term19\")"
   ]
  },
  {
   "cell_type": "code",
   "execution_count": null,
   "metadata": {},
   "outputs": [],
   "source": [
    "KG.predicate2id[\"carries_out\"]"
   ]
  },
  {
   "cell_type": "code",
   "execution_count": null,
   "metadata": {},
   "outputs": [],
   "source": [
    "torch.sort(torch.softmax(model.R[0].R, dim=0), descending=True)"
   ]
  },
  {
   "cell_type": "code",
   "execution_count": 5,
   "metadata": {},
   "outputs": [
    {
     "name": "stdout",
     "output_type": "stream",
     "text": [
      "#True: 494\n",
      "#Predicted True: 7\n",
      "#True And Predicted True: 1\n",
      "\n",
      "#True Among Predicted True: 0.14285714285714285\n",
      "\n",
      "#Predicted True Among True: 0.0020242914979757085\n",
      "\n"
     ]
    }
   ],
   "source": [
    "rule = [\"affects\", \"manifestation_of\", \"rev-isa\", \"rev-conceptually_related_to\"]\n",
    "KG.print_rule(rule)"
   ]
  },
  {
   "cell_type": "code",
   "execution_count": null,
   "metadata": {},
   "outputs": [],
   "source": [
    "rule = [\"affects\", \"affects\", \"complicates\", \"degree_of\"]\n",
    "model2 = Rule(KG.n_predicate_total(), len(rule) - 1)\n",
    "for i in range(model2.n_step):\n",
    "    model2.R[i].R.requires_grad_(False)\n",
    "for i in range(model2.n_step):\n",
    "    for j in range(model2.n_predicate):\n",
    "        model2.R[i].R[j] = float('-inf')\n",
    "for i in range(0, len(rule) - 1):\n",
    "    model2.R[i].R[KG.predicate2id[rule[i + 1]]] = 1.0"
   ]
  },
  {
   "cell_type": "code",
   "execution_count": null,
   "metadata": {},
   "outputs": [],
   "source": [
    "# model2 = train_step_by_step(rule_body_len, target_predicate, KG, BATCH_SIZE, EPOCH, lr=1e-1, model=model2)\n",
    "# KG.print_model(model2, KG.id2predicate[target_predicate])"
   ]
  },
  {
   "cell_type": "code",
   "execution_count": null,
   "metadata": {},
   "outputs": [],
   "source": [
    "rec = 0\n",
    "for i in target_triplets:\n",
    "    ans = torch.max(model(i[0], KG.graph))\n",
    "    rec = max(ans, rec)\n",
    "rec"
   ]
  },
  {
   "cell_type": "code",
   "execution_count": null,
   "metadata": {},
   "outputs": [],
   "source": [
    "with open(\"model\", \"wb\") as f:\n",
    "\t\tpickle.dump(model, f)"
   ]
  },
  {
   "cell_type": "code",
   "execution_count": null,
   "metadata": {},
   "outputs": [],
   "source": [
    "KG.print_rule(['affects', 'affects', 'isa', 'rev-co-occurs_with'])"
   ]
  }
 ],
 "metadata": {
  "interpreter": {
   "hash": "e404b59586357c814bc0d3940e75d6763c00a48753b225b81f7716971b8e1741"
  },
  "kernelspec": {
   "display_name": "Python 3.8.10 64-bit",
   "language": "python",
   "name": "python3"
  },
  "language_info": {
   "codemirror_mode": {
    "name": "ipython",
    "version": 3
   },
   "file_extension": ".py",
   "mimetype": "text/x-python",
   "name": "python",
   "nbconvert_exporter": "python",
   "pygments_lexer": "ipython3",
   "version": "3.8.10"
  },
  "orig_nbformat": 4
 },
 "nbformat": 4,
 "nbformat_minor": 2
}
