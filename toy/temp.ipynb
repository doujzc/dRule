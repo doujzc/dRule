{
 "cells": [
  {
   "cell_type": "code",
   "execution_count": 1,
   "metadata": {},
   "outputs": [
    {
     "name": "stderr",
     "output_type": "stream",
     "text": [
      "c:\\Users\\tourx\\source\\repos\\sota\\knowledgegraph.py:13: FutureWarning: The series.append method is deprecated and will be removed from pandas in a future version. Use pandas.concat instead.\n",
      "  total_entity = data[0].append(data[2])\n"
     ]
    }
   ],
   "source": [
    "import torch\n",
    "import torch.nn as nn\n",
    "import torch.nn.functional as F\n",
    "from torch.nn.parameter import Parameter\n",
    "import numpy as np\n",
    "import pandas\n",
    "import os\n",
    "from tqdm import tqdm\n",
    "import random\n",
    "\n",
    "from graph import Graph\n",
    "from knowledgegraph import KnowledgeGraph\n",
    "from rule import Rule\n",
    "from train import train\n",
    "from train import train_step_by_step\n",
    "from train import train_pow_decay\n",
    "from device import device\n",
    "import pickle\n",
    "\n",
    "# data_path = 'data/wn18rr/train.txt'\n",
    "data_path = 'data/umls/train.txt'\n",
    "# data_path = 'temp.txt'\n",
    "# data_path = 'data/data_2_rule.txt'\n",
    "# data_path = 'data/family/train.txt'\n",
    "# data_path = 'data/noisy.txt'\n",
    "# data_path = 'data/kinship/train.txt'\n",
    "# data_path = 'testdata.txt'\n",
    "KG = KnowledgeGraph(data_path)\n",
    "\n",
    "EPOCH = 100\n",
    "BATCH_SIZE = 1000\n",
    "rule_body_len = 3\n",
    "target_predicate = 0"
   ]
  },
  {
   "cell_type": "code",
   "execution_count": 2,
   "metadata": {},
   "outputs": [
    {
     "name": "stdout",
     "output_type": "stream",
     "text": [
      "tensor([-8.4020e-03,  2.6536e-03,  1.8966e-03, -1.5162e-02,  1.0090e-05,\n",
      "         8.7561e-04,  1.1913e-03,  1.1885e-03,  9.3481e-05,  9.8126e-05,\n",
      "        -3.0334e-04,  6.9087e-03, -1.6431e-04,  4.1816e-04, -2.5405e-03,\n",
      "        -2.7186e-03,  2.2774e-04,  6.2399e-04,  1.9002e-04,  7.0704e-04,\n",
      "         4.2491e-06,  1.1973e-03, -9.6914e-04,  1.7772e-04,  2.8229e-03,\n",
      "        -1.4970e-03,  4.6269e-04,  9.8825e-05,  7.8879e-04,  4.6318e-05,\n",
      "        -8.5570e-04,  1.6616e-03, -5.8131e-05,  2.2666e-04,  1.3312e-04,\n",
      "         2.3289e-05,  4.4015e-05,  2.5911e-04,  5.4557e-05,  9.8869e-05,\n",
      "        -9.8272e-05,  2.6052e-05,  2.2828e-05,  1.1313e-05,  2.2828e-05,\n",
      "         2.6982e-03,  2.7044e-03, -3.3053e-05,  3.3545e-03,  3.2023e-04,\n",
      "         1.9996e-03, -6.2058e-04,  3.2877e-04,  1.0847e-03,  2.8049e-03,\n",
      "        -1.8713e-04, -7.2825e-05,  9.7920e-04,  1.0727e-04, -1.5869e-03,\n",
      "        -5.2734e-03, -4.1503e-03, -8.7444e-06,  3.1476e-05, -5.9147e-05,\n",
      "        -4.1101e-05,  3.4144e-03, -1.0642e-03,  5.3105e-04,  1.2706e-03,\n",
      "        -1.9007e-03,  4.5665e-04,  1.1264e-04,  6.4031e-04,  3.8845e-05,\n",
      "        -7.4492e-04, -2.4396e-04, -4.1865e-06,  1.4493e-04, -1.8193e-04,\n",
      "         2.6052e-05,  3.6646e-05,  2.5337e-04,  6.4281e-05,  2.4806e-04,\n",
      "        -5.3439e-05,  1.9143e-05,  1.4538e-05,  2.2828e-05,  2.1446e-05],\n",
      "       device='cuda:0')\n",
      "tensor([-1.3658e-02,  2.7060e-03, -1.4017e-03, -2.2246e-02, -7.2407e-04,\n",
      "         1.3480e-03,  1.2864e-04,  6.5622e-04,  5.1134e-03,  2.2455e-03,\n",
      "         6.4216e-04,  3.9011e-04,  2.5810e-03,  1.0843e-04, -2.9432e-03,\n",
      "        -5.3272e-03, -5.8323e-03, -2.8685e-05,  3.6119e-05, -4.7604e-04,\n",
      "        -4.9290e-04, -2.0799e-08, -1.6771e-03,  7.2374e-04, -1.9481e-04,\n",
      "        -2.3540e-03, -3.7437e-04,  1.1382e-04,  8.0167e-04,  5.3936e-05,\n",
      "        -5.0122e-04, -5.6347e-04,  1.0586e-03,  2.3313e-04, -4.4221e-04,\n",
      "         2.0253e-05,  3.7813e-05,  2.1625e-04,  6.5452e-05,  2.4926e-04,\n",
      "        -5.2361e-05,  2.0308e-05,  1.5701e-05,  2.3993e-05,  2.2611e-05,\n",
      "        -1.0282e-02,  2.6131e-03,  1.1219e-02,  5.8610e-03,  3.3633e-03,\n",
      "         5.5487e-04,  7.7482e-04,  3.5812e-03, -1.0415e-03, -8.0673e-04,\n",
      "         1.0066e-03,  7.2656e-03,  2.9689e-03,  4.6116e-04,  5.0090e-03,\n",
      "        -6.0059e-03,  2.7826e-04,  1.8784e-03,  1.9121e-04,  9.2413e-04,\n",
      "         1.7285e-03,  2.2812e-03, -1.7596e-03,  3.6339e-04,  5.5426e-03,\n",
      "        -2.4795e-03,  2.5499e-04,  1.0000e-04,  7.7962e-04,  4.7487e-05,\n",
      "        -1.6671e-03,  1.6630e-03,  4.8604e-04,  3.1835e-04,  1.7773e-03,\n",
      "         1.4007e-05,  4.5183e-05,  1.4192e-04,  6.2688e-05,  1.8707e-04,\n",
      "        -1.1112e-04,  2.7218e-05,  2.3993e-05,  1.2476e-05,  2.3993e-05],\n",
      "       device='cuda:0')\n"
     ]
    }
   ],
   "source": [
    "n_step = 2\n",
    "target_predicate = KG.predicate2id[\"affects\"]\n",
    "pos_triplets = KG.graph.A.clone().detach()[target_predicate]\n",
    "neg_triplets = (1.0 - KG.graph.A).detach()[target_predicate]\n",
    "\n",
    "model = Rule(KG.graph.n_edge_type, n_step, False).to(device)\n",
    "ans = model.forward(KG.graph, n_step)\n",
    "l1 = torch.sum(ans * (neg_triplets + pos_triplets))\n",
    "l0 = torch.sum(ans * pos_triplets)\n",
    "loss = -l0 / l1 - l0 / (torch.sum(pos_triplets))\n",
    "loss.requires_grad_(True)\n",
    "loss.backward()\n",
    "\n",
    "for i in range(model.n_step):\n",
    "    print(model.R[i].R._grad)"
   ]
  },
  {
   "cell_type": "code",
   "execution_count": 11,
   "metadata": {},
   "outputs": [
    {
     "data": {
      "text/plain": [
       "tensor(0.0076, device='cuda:0', grad_fn=<SubBackward0>)"
      ]
     },
     "execution_count": 11,
     "metadata": {},
     "output_type": "execute_result"
    }
   ],
   "source": [
    "l1 - l0"
   ]
  }
 ],
 "metadata": {
  "interpreter": {
   "hash": "e404b59586357c814bc0d3940e75d6763c00a48753b225b81f7716971b8e1741"
  },
  "kernelspec": {
   "display_name": "Python 3.8.10 64-bit",
   "language": "python",
   "name": "python3"
  },
  "language_info": {
   "codemirror_mode": {
    "name": "ipython",
    "version": 3
   },
   "file_extension": ".py",
   "mimetype": "text/x-python",
   "name": "python",
   "nbconvert_exporter": "python",
   "pygments_lexer": "ipython3",
   "version": "3.8.10"
  },
  "orig_nbformat": 4
 },
 "nbformat": 4,
 "nbformat_minor": 2
}
